{
  "nbformat": 4,
  "nbformat_minor": 0,
  "metadata": {
    "colab": {
      "name": "Alberto_Manases_Turcios_Ortes-Neural-Networks.ipynb",
      "provenance": [],
      "collapsed_sections": []
    },
    "kernelspec": {
      "name": "python3",
      "display_name": "Python 3"
    }
  },
  "cells": [
    {
      "cell_type": "markdown",
      "metadata": {
        "id": "GBedjAGqYu1e"
      },
      "source": [
        "# Neural Networks\n",
        "\n",
        "*In this project we will be evaluating the knowledge practiced in class with the extensive information that tensorflow and neural networks have, the objective of this practice is to demonstrate what has been learned, and put it into practice with a simple example creating neural networks to be able to predict and know with Certainly what is the number that the image is giving, this problem will be studied with the MNIST classification that is one of the most used when we begin to take the first steps in this world of deep learning and neural networks!*"
      ]
    },
    {
      "cell_type": "code",
      "metadata": {
        "id": "JluvOn9Ga9Jy"
      },
      "source": [
        "import tensorflow as tf  # tensorflow is a machine learning library \n",
        "from keras.models import Sequential\n",
        "from keras.utils import to_categorical\n",
        "from keras.datasets import mnist\n",
        "import matplotlib.pyplot as plt # matplotlib is a library for generating graphs from data contained in lists\n",
        "import numpy as np"
      ],
      "execution_count": 41,
      "outputs": []
    },
    {
      "cell_type": "code",
      "metadata": {
        "id": "D8hJrpykbC0Z"
      },
      "source": [
        "# we import the mnist data that will help us to build our neural network \n",
        "mnist = tf.keras.datasets.mnist "
      ],
      "execution_count": 42,
      "outputs": []
    },
    {
      "cell_type": "markdown",
      "metadata": {
        "id": "6EcNuqVSdgQ1"
      },
      "source": [
        "### Initializing Variables"
      ]
    },
    {
      "cell_type": "code",
      "metadata": {
        "id": "t-kA735odf6u"
      },
      "source": [
        "#initializing variables with respect to mnist and its data\n",
        "(x_train, y_train),(x_test, y_test) = mnist.load_data() \n",
        "\n",
        "#One-Hot Encoding\n",
        "y_train_one_hot = to_categorical(y_train)\n",
        "y_test_one_hot = to_categorical(y_test)"
      ],
      "execution_count": 43,
      "outputs": []
    },
    {
      "cell_type": "markdown",
      "metadata": {
        "id": "710v_rarm7W1"
      },
      "source": [
        "### Print Test Information "
      ]
    },
    {
      "cell_type": "code",
      "metadata": {
        "colab": {
          "base_uri": "https://localhost:8080/"
        },
        "id": "NeOsSMfgiGsI",
        "outputId": "2dcf75bf-a363-4eb4-cc75-65c7111a3876"
      },
      "source": [
        "#data information -- Get the image shape --\n",
        "print(x_train.shape)\n",
        "print(x_test.shape) \n",
        "\n",
        "#print the new label \n",
        "print(y_train_one_hot[0])\n",
        "print(y_test_one_hot[0])"
      ],
      "execution_count": 44,
      "outputs": [
        {
          "output_type": "stream",
          "text": [
            "(60000, 28, 28)\n",
            "(10000, 28, 28)\n",
            "[0. 0. 0. 0. 0. 1. 0. 0. 0. 0.]\n",
            "[0. 0. 0. 0. 0. 0. 0. 1. 0. 0.]\n"
          ],
          "name": "stdout"
        }
      ]
    },
    {
      "cell_type": "markdown",
      "metadata": {
        "id": "tkAGQIzGeYFE"
      },
      "source": [
        "### One Test of Example "
      ]
    },
    {
      "cell_type": "code",
      "metadata": {
        "colab": {
          "base_uri": "https://localhost:8080/",
          "height": 282
        },
        "id": "kR4_3lavepy1",
        "outputId": "7f79d3e7-59bc-4f49-d7ef-8a2c38012245"
      },
      "source": [
        "# We will create an example test to verify that the mnist data is being loaded\n",
        "plt.imshow(x_train[0], cmap=\"gray\")\n",
        "print(y_train[0]) #print the training data\n",
        "plt.show()"
      ],
      "execution_count": 45,
      "outputs": [
        {
          "output_type": "stream",
          "text": [
            "5\n"
          ],
          "name": "stdout"
        },
        {
          "output_type": "display_data",
          "data": {
            "image/png": "[encoded data removed]",
            "text/plain": [
              "<Figure size 432x288 with 1 Axes>"
            ]
          },
          "metadata": {
            "tags": [],
            "needs_background": "light"
          }
        }
      ]
    },
    {
      "cell_type": "markdown",
      "metadata": {
        "id": "PrHq_eSnfhSm"
      },
      "source": [
        " **_As you can see the data is being loaded correctly from the test data and training data_**"
      ]
    },
    {
      "cell_type": "markdown",
      "metadata": {
        "id": "ycRsd0RHgg5n"
      },
      "source": [
        "### Creation of the Models"
      ]
    },
    {
      "cell_type": "code",
      "metadata": {
        "id": "l6vZp97OglCp"
      },
      "source": [
        "# network structure\n",
        "# Build the CNN model \n",
        "# CNN = Convolutional Neural Network\n",
        "model = tf.keras.models.Sequential()\n",
        "\n",
        "#add model layers\n",
        "model.add(tf.keras.layers.Flatten())\n",
        "model.add(tf.keras.layers.Dense(128, activation=tf.nn.relu))\n",
        "model.add(tf.keras.layers.Dense(100, activation=tf.nn.relu))\n",
        "model.add(tf.keras.layers.Dense(10, activation=tf.nn.softmax))"
      ],
      "execution_count": 46,
      "outputs": []
    },
    {
      "cell_type": "code",
      "metadata": {
        "id": "TG-ONb10jJZ3"
      },
      "source": [
        "# Compile the model and your information \n",
        "model.compile(optimizer=\"adam\", loss=\"sparse_categorical_crossentropy\",  metrics=[\"accuracy\"])"
      ],
      "execution_count": 47,
      "outputs": []
    },
    {
      "cell_type": "code",
      "metadata": {
        "colab": {
          "base_uri": "https://localhost:8080/"
        },
        "id": "ouQSnhcspudJ",
        "outputId": "db8eeeef-5b42-4d39-d968-2c7a83021da6"
      },
      "source": [
        "#Train test\n",
        "model.fit(x_train, y_train, epochs=4)"
      ],
      "execution_count": 48,
      "outputs": [
        {
          "output_type": "stream",
          "text": [
            "Epoch 1/4\n",
            "1875/1875 [==============================] - 4s 2ms/step - loss: 1.5915 - accuracy: 0.8745\n",
            "Epoch 2/4\n",
            "1875/1875 [==============================] - 3s 2ms/step - loss: 0.2721 - accuracy: 0.9344\n",
            "Epoch 3/4\n",
            "1875/1875 [==============================] - 3s 2ms/step - loss: 0.1832 - accuracy: 0.9502\n",
            "Epoch 4/4\n",
            "1875/1875 [==============================] - 3s 2ms/step - loss: 0.1544 - accuracy: 0.9570\n"
          ],
          "name": "stdout"
        },
        {
          "output_type": "execute_result",
          "data": {
            "text/plain": [
              "<tensorflow.python.keras.callbacks.History at 0x7f30cdd69c88>"
            ]
          },
          "metadata": {
            "tags": []
          },
          "execution_count": 48
        }
      ]
    },
    {
      "cell_type": "code",
      "metadata": {
        "colab": {
          "base_uri": "https://localhost:8080/"
        },
        "id": "pXW1nlT5p8oe",
        "outputId": "6ffd8b16-edc9-4178-d0b4-bbd93405e89c"
      },
      "source": [
        "#Train evaluation\n",
        "value_loss, value_accuracy =  model.evaluate(x_test, y_test)"
      ],
      "execution_count": 71,
      "outputs": [
        {
          "output_type": "stream",
          "text": [
            "313/313 [==============================] - 0s 1ms/step - loss: 0.1668 - accuracy: 0.9588\n"
          ],
          "name": "stdout"
        }
      ]
    },
    {
      "cell_type": "code",
      "metadata": {
        "colab": {
          "base_uri": "https://localhost:8080/"
        },
        "id": "LsCkyTPFqT8J",
        "outputId": "fc5ede5e-cdab-443e-8c2f-9cea05cb22e0"
      },
      "source": [
        "#print the data informations\n",
        "print(\"loss: \", value_loss)\n",
        "print(\"accuracy: \",value_accuracy)\n",
        "print(\"accuracy percent : \", (value_accuracy*100),\"% \")"
      ],
      "execution_count": 76,
      "outputs": [
        {
          "output_type": "stream",
          "text": [
            "loss:  0.1667977124452591\n",
            "accuracy:  0.9588000178337097\n",
            "accuracy percent :  95.88000178337097 % \n"
          ],
          "name": "stdout"
        }
      ]
    },
    {
      "cell_type": "code",
      "metadata": {
        "colab": {
          "base_uri": "https://localhost:8080/"
        },
        "id": "z0kVkmn8qoGa",
        "outputId": "84f5732e-1e0f-43fb-a1a8-c686bec60f7e"
      },
      "source": [
        "#prediction model\n",
        "prediction = model.predict(x_test)\n",
        "print(prediction)"
      ],
      "execution_count": 53,
      "outputs": [
        {
          "output_type": "stream",
          "text": [
            "[[9.03941296e-14 2.95414733e-08 4.89626331e-08 ... 9.99994516e-01\n",
            "  1.30368072e-09 5.35354638e-06]\n",
            " [7.08962762e-06 5.58832799e-05 9.98440564e-01 ... 5.06578399e-05\n",
            "  3.87798855e-06 3.87097082e-12]\n",
            " [3.90943569e-05 9.97838318e-01 1.34230091e-03 ... 7.27461156e-05\n",
            "  4.59447474e-04 9.65760501e-06]\n",
            " ...\n",
            " [1.45091049e-11 4.49976341e-08 1.32881792e-06 ... 2.24566861e-06\n",
            "  3.61170751e-05 3.96097638e-03]\n",
            " [3.32368666e-19 1.86889826e-34 3.62467503e-32 ... 2.46542073e-31\n",
            "  1.32189046e-14 4.33171190e-20]\n",
            " [3.19974575e-10 1.29903705e-23 8.87949003e-12 ... 2.46114389e-17\n",
            "  5.70673994e-11 5.09288936e-16]]\n"
          ],
          "name": "stdout"
        }
      ]
    },
    {
      "cell_type": "code",
      "metadata": {
        "colab": {
          "base_uri": "https://localhost:8080/",
          "height": 282
        },
        "id": "Z1eACFK7rYy2",
        "outputId": "ddf01da7-8e12-452b-9ec3-37d0c7ee2cb0"
      },
      "source": [
        "#data before prediction\n",
        "plt.imshow(x_test[0], cmap=\"gray\")"
      ],
      "execution_count": 54,
      "outputs": [
        {
          "output_type": "execute_result",
          "data": {
            "text/plain": [
              "<matplotlib.image.AxesImage at 0x7f30cb6597b8>"
            ]
          },
          "metadata": {
            "tags": []
          },
          "execution_count": 54
        },
        {
          "output_type": "display_data",
          "data": {
            "image/png": "[encoded data removed]",
            "text/plain": [
              "<Figure size 432x288 with 1 Axes>"
            ]
          },
          "metadata": {
            "tags": [],
            "needs_background": "light"
          }
        }
      ]
    },
    {
      "cell_type": "code",
      "metadata": {
        "colab": {
          "base_uri": "https://localhost:8080/"
        },
        "id": "FLdq6pmhru71",
        "outputId": "39fe857c-aa8d-40f4-85f0-113bd58a3ae6"
      },
      "source": [
        "# raw information\n",
        "prediction[0]"
      ],
      "execution_count": 55,
      "outputs": [
        {
          "output_type": "execute_result",
          "data": {
            "text/plain": [
              "array([9.0394130e-14, 2.9541473e-08, 4.8962633e-08, 6.9049442e-08,\n",
              "       2.3507432e-10, 1.6519840e-10, 1.4542397e-23, 9.9999452e-01,\n",
              "       1.3036807e-09, 5.3535464e-06], dtype=float32)"
            ]
          },
          "metadata": {
            "tags": []
          },
          "execution_count": 55
        }
      ]
    },
    {
      "cell_type": "code",
      "metadata": {
        "colab": {
          "base_uri": "https://localhost:8080/"
        },
        "id": "V1CVhwNIr7K9",
        "outputId": "df33f2e1-d0bc-4f71-f262-11be56dd4f3f"
      },
      "source": [
        "# processing the information better\n",
        "np.argmax(prediction[0])"
      ],
      "execution_count": 56,
      "outputs": [
        {
          "output_type": "execute_result",
          "data": {
            "text/plain": [
              "7"
            ]
          },
          "metadata": {
            "tags": []
          },
          "execution_count": 56
        }
      ]
    },
    {
      "cell_type": "markdown",
      "metadata": {
        "id": "YZa2xDAbsbdI"
      },
      "source": [
        "**With this example we see that the prediction correctly matches the mnist datasets and it can be verified that the neural network is working correctly**"
      ]
    },
    {
      "cell_type": "markdown",
      "metadata": {
        "id": "dEpTCuhtsfjk"
      },
      "source": [
        "### More Examples"
      ]
    },
    {
      "cell_type": "code",
      "metadata": {
        "colab": {
          "base_uri": "https://localhost:8080/",
          "height": 282
        },
        "id": "0Cfh9eRksrew",
        "outputId": "c702bd42-ebbe-43fd-b3a6-7b37319e4442"
      },
      "source": [
        "plt.imshow(x_test[1], cmap=\"gray\")\n",
        "np.argmax(prediction[1])"
      ],
      "execution_count": 61,
      "outputs": [
        {
          "output_type": "execute_result",
          "data": {
            "text/plain": [
              "2"
            ]
          },
          "metadata": {
            "tags": []
          },
          "execution_count": 61
        },
        {
          "output_type": "display_data",
          "data": {
            "image/png": "[encoded data removed]",
            "text/plain": [
              "<Figure size 432x288 with 1 Axes>"
            ]
          },
          "metadata": {
            "tags": [],
            "needs_background": "light"
          }
        }
      ]
    },
    {
      "cell_type": "code",
      "metadata": {
        "colab": {
          "base_uri": "https://localhost:8080/",
          "height": 282
        },
        "id": "2bmG8pLrtENk",
        "outputId": "0dafb930-2d3a-4767-a9c8-f2460fcb0bee"
      },
      "source": [
        "plt.imshow(x_test[3], cmap=\"gray\")\n",
        "np.argmax(prediction[3])"
      ],
      "execution_count": 62,
      "outputs": [
        {
          "output_type": "execute_result",
          "data": {
            "text/plain": [
              "0"
            ]
          },
          "metadata": {
            "tags": []
          },
          "execution_count": 62
        },
        {
          "output_type": "display_data",
          "data": {
            "image/png": "[encoded data removed]",
            "text/plain": [
              "<Figure size 432x288 with 1 Axes>"
            ]
          },
          "metadata": {
            "tags": [],
            "needs_background": "light"
          }
        }
      ]
    },
    {
      "cell_type": "code",
      "metadata": {
        "colab": {
          "base_uri": "https://localhost:8080/",
          "height": 282
        },
        "id": "GeQLaJfltIFr",
        "outputId": "bdc0643e-2fff-4aab-ecad-5f05e10b46c7"
      },
      "source": [
        "plt.imshow(x_test[5], cmap=\"gray\")\n",
        "np.argmax(prediction[5])"
      ],
      "execution_count": 63,
      "outputs": [
        {
          "output_type": "execute_result",
          "data": {
            "text/plain": [
              "1"
            ]
          },
          "metadata": {
            "tags": []
          },
          "execution_count": 63
        },
        {
          "output_type": "display_data",
          "data": {
            "image/png": "[encoded data removed]",
            "text/plain": [
              "<Figure size 432x288 with 1 Axes>"
            ]
          },
          "metadata": {
            "tags": [],
            "needs_background": "light"
          }
        }
      ]
    },
    {
      "cell_type": "code",
      "metadata": {
        "colab": {
          "base_uri": "https://localhost:8080/",
          "height": 282
        },
        "id": "RIOMPpGetLOp",
        "outputId": "e29c1228-a93c-4249-c02b-055acbc3763d"
      },
      "source": [
        "plt.imshow(x_test[7], cmap=\"gray\")\n",
        "np.argmax(prediction[7])"
      ],
      "execution_count": 64,
      "outputs": [
        {
          "output_type": "execute_result",
          "data": {
            "text/plain": [
              "9"
            ]
          },
          "metadata": {
            "tags": []
          },
          "execution_count": 64
        },
        {
          "output_type": "display_data",
          "data": {
            "image/png": "[encoded data removed]",
            "text/plain": [
              "<Figure size 432x288 with 1 Axes>"
            ]
          },
          "metadata": {
            "tags": [],
            "needs_background": "light"
          }
        }
      ]
    },
    {
      "cell_type": "code",
      "metadata": {
        "colab": {
          "base_uri": "https://localhost:8080/"
        },
        "id": "8uoSYLZHtRhD",
        "outputId": "083b9298-a931-4d10-d45e-46fbab8c2699"
      },
      "source": [
        "# embellishing the code :)\n",
        "x = int(input(\"Enter the number of the array you want to display: \"))\n",
        "value = int(input(\"Enter the number of the array you want to predict: \"))"
      ],
      "execution_count": 66,
      "outputs": [
        {
          "output_type": "stream",
          "text": [
            "Enter the number of the array you want to display: 3\n",
            "Enter the number of the array you want to predict: 3\n"
          ],
          "name": "stdout"
        }
      ]
    },
    {
      "cell_type": "code",
      "metadata": {
        "colab": {
          "base_uri": "https://localhost:8080/",
          "height": 282
        },
        "id": "a_a45pEXuCPv",
        "outputId": "14ef8707-db60-465d-e1da-dd77c1057f3e"
      },
      "source": [
        "plt.imshow(x_test[x], cmap=\"gray\")\n",
        "np.argmax(prediction[value])"
      ],
      "execution_count": 67,
      "outputs": [
        {
          "output_type": "execute_result",
          "data": {
            "text/plain": [
              "0"
            ]
          },
          "metadata": {
            "tags": []
          },
          "execution_count": 67
        },
        {
          "output_type": "display_data",
          "data": {
            "image/png": "[encoded data removed]",
            "text/plain": [
              "<Figure size 432x288 with 1 Axes>"
            ]
          },
          "metadata": {
            "tags": [],
            "needs_background": "light"
          }
        }
      ]
    }
  ]
}